{
 "cells": [
  {
   "cell_type": "markdown",
   "metadata": {},
   "source": [
    "### 0 环境搭建基础概念\n",
    "主要内容:\n",
    "- Jupyter kernels are disconnected from Jupyter's shell\n",
    "- the shell environment and the Python executable are disconnected\n",
    "- Python executable has its own site-packages:meaning when you install a package, it is associated with particular python executable\n",
    "- how Jupyter chooses to execute Python code, i.e. concept of a Jupyter Kernel.\n",
    "- `%pip` and `%conda` magic functions within the Jupyter notebook that detect the current kernel and make certain packages are installed in the correct location.\n",
    "- 待更新"
   ]
  },
  {
   "cell_type": "markdown",
   "metadata": {},
   "source": [
    "### 1 Conda环境\n",
    "#### 包管理\n",
    "- 安装包 conda install package_names\n",
    "- 卸载包 conda remove package_names\n",
    "= 更新包 conda upgrade package_names\n",
    "\n",
    "#### conda环境管理\n",
    "\n",
    "- 管理环境 conda install nb_conda\n",
    "- 创建环境 conda create -n env_name package_names\n",
    "- 进入环境 conda activate env_name\n",
    "- 离开环境 conda deactivate / Linux: source deactivate\n",
    "- 查看已有环境 conda info -e / conda env list\n",
    "- 删除虚拟环境 conda remove -n env_name --all\n",
    "- 删除环境中某个包 conda remove -n env_name package_name"
   ]
  },
  {
   "cell_type": "markdown",
   "metadata": {},
   "source": [
    "```\n",
    "conda create -n kaggle python=3.6\n",
    "conda activate kaggle\n",
    "pip install numpy pandas sklearn \n",
    "```\n",
    "然后安装所需要的包，如：\n",
    "- numpy, pandas, pandas_profiling, sklearn, \n",
    "- matplotlib, seaborn,\n",
    "- pytorch [Pytorch安装官网](https://pytorch.org/get-started/locally/) 建议早上pip \n",
    "-[b站，小土堆，安装视频教程，主要是显卡](https://www.bilibili.com/video/av74281036?from=search&seid=7415723537396878722)\n",
    "- tensorflow,\n"
   ]
  },
  {
   "cell_type": "markdown",
   "metadata": {},
   "source": [
    "### 2 Jupyter Notebook的基本使用技巧"
   ]
  },
  {
   "cell_type": "markdown",
   "metadata": {},
   "source": [
    "**参见help** 以下所有操作都需要在命令模式下完成（按ESC或者点击编辑框外的空白处）\n",
    "\n",
    "* 向上增加空白cell, <font color=#d9b8f1>A</font>\n",
    "* 向下增加空白cell, <font color=#d9b8f1>B</font>\n",
    "* 运行cell，并将光标移动到下一个cell，<font color=#d9b8f1>shift+enter</font>\n",
    "* 运行cell，<font color=#d9b8f1>ctrl+enter</font>\n",
    "* 删除本cell，<font color=#d9b8f1>DD</font>\n",
    "* 剪切本cell, <font color=#d9b8f1>X</font>\n",
    "* 粘贴本cell, <font color=#d9b8f1>V</font>\n",
    "\n",
    "* 合并两个cell,<font color=#d9b8f1>A</font>\n",
    "* 将cell转为代码状态，<font color=#d9b8f1>Y</font>\n",
    "* 将cell转为markdown状态，<font color=#d9b8f1>M</font>\n",
    "* 将选中的几个cells合并，<font color=#d9b8f1>Shift+M</font>\n",
    "* 打开／关闭行号，<font color=#d9b8f1>L</font>\n",
    "* 恢复删除的最后一个cell，<font color=#d9b8f1>Z</font>  只有最后一个啊\n",
    "* 选中代码整体左移／右移, <font color=#d9b8f1>ctrl+[或者ctrl+]</font>"
   ]
  },
  {
   "cell_type": "markdown",
   "metadata": {},
   "source": [
    "#### 2.1 jupyter notebook本地化\n",
    "百度一下吧，我弄过忘记了。就记得config文件，好多项长得很像，用编辑器打开，查找一下，别改错了。欢迎补充。\n",
    "1. 在电脑的指定位置，新建文件夹，准备将其设置成Jupyter Notebook的新路径，记住该路径，以下简记`PATH_A`\n",
    "2. 打开cmd 输入`Jupyter notebook --generate-config`生成配置文件，打开C盘下`.Jupyter`文件夹查看是否生成成功;\n",
    "3. 修改路径：（用编辑器）打开刚生成的`jupyter_notebook_config.py`文件, 找到（ctrl+F）这一行`#c.NotebookApp.notebook_dir = `, 将Juputer Note的文件夹路径添加进去，即`#c.NotebookApp.notebook_dir = PATH_A` \n",
    " **注意:一定要去掉前面的`#`** \n",
    "e.g.: c.NotebookApp.notebook_dir = ‘H:\\Deeplearning\\Jupyter_notebook’;\n",
    "4. 右键，修改开始菜单中Jupyter Notebook属性里的目标和起始位置 将起始位置也改为`PATH_A`\n",
    "\n"
   ]
  },
  {
   "cell_type": "markdown",
   "metadata": {},
   "source": [
    "#### 2.2 Jupyter notebook添加Kernel / 如何添加安装多个python（虚拟）环境？\n",
    "2steps:\n",
    "1. 用conda新建python环境\n",
    "2. 用ipykernel 将新建的python环境加到jupyter notebook里面"
   ]
  },
  {
   "cell_type": "markdown",
   "metadata": {},
   "source": [
    "```\n",
    "\"\"\"\n",
    "source activate myenv\n",
    "conda install pip\n",
    "conda install ipykernel #or pip install ipykernel\n",
    "\"\"\"\n",
    "source activate myenv\n",
    "python -m ipykernel install --user --name myenv --display-name \"Python(myenv)\"\n",
    "```\n"
   ]
  },
  {
   "cell_type": "markdown",
   "metadata": {},
   "source": [
    "查看已有kernel \n",
    "> jupyter kernelspec list"
   ]
  },
  {
   "cell_type": "markdown",
   "metadata": {},
   "source": [
    "方法：在命令行中执行以下代码 (相关阅读材料https://ipython.readthedocs.io/en/latest/install/kernel_install.html)"
   ]
  },
  {
   "cell_type": "markdown",
   "metadata": {},
   "source": [
    "#### 2.3 Jupyter Notebook theme\n",
    "https://github.com/dunovank/jupyter-themes\n",
    "```\n",
    "pip install jupyterthemes\n",
    "jt -r # reset\n",
    "# 我的配置\n",
    "jt -t oceans16 -f source -fs 13 -ofs 12 -dfs 11 -cellw 90% -T\n",
    "```\n",
    "\n",
    "\n"
   ]
  }
 ],
 "metadata": {
  "kernelspec": {
   "display_name": "kaggle",
   "language": "python",
   "name": "kaggle"
  },
  "language_info": {
   "codemirror_mode": {
    "name": "ipython",
    "version": 3
   },
   "file_extension": ".py",
   "mimetype": "text/x-python",
   "name": "python",
   "nbconvert_exporter": "python",
   "pygments_lexer": "ipython3",
   "version": "3.6.10"
  }
 },
 "nbformat": 4,
 "nbformat_minor": 4
}
